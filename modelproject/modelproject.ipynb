{
 "cells": [
  {
   "cell_type": "markdown",
   "metadata": {},
   "source": [
    "# SIMULATING THE IS-LM MODEL"
   ]
  },
  {
   "cell_type": "markdown",
   "metadata": {},
   "source": [
    "Originally developed by John R. Hicks, the IS-LM model is a formalisation of concepts put forth by John Maynard Keynes in his 1936 General Theory. The model shows the short-term relationship between interest rates and output in a closed economy. The model is a general equillibrium model, containing two equillibrium relationships: That of the goods market between investment and saving (IS curve), and that of the money market between monetary demand and supply (LM curve). \n",
    "\n",
    "In the goods market, aggregate supply adjusts to aggregate demand according to decisions of households, firms and the government. Households make consumption decisions based on total disposable income, while firms make investment decisions based on the real interest rate. \n",
    "\n",
    "In the money market, demand is determined by transactions demand (aggregate income) as well as the speculative demand (interest rate on savings). \n",
    "\n",
    "The IS and LM curves represent possible equillibria in either of these markets. The intersection hereof decide equillibrium output and interest rates, and the levels of consumption and investment that follow.\n",
    "\n",
    "The government is in control of the money supply, government spending, as well as tax rates, and is therefore able to affect short-term equillibrium outcomes. \n",
    "\n",
    "This paper proceeds as follows. The following section describes the model in further detail. Thereafter, the model is solved numerically by means of iteration, allowing for a succesfull approximation of variables. The numerical solution is computed for a number of scenarios, allowing for various outcomes depending on government decisions, as well as changes in preferences.\n",
    "The full IS-LM curves for the baseline scenario are reported.\n",
    "Thereafter, the model is expanded to include a labour force and unemployment rates.\n",
    "Finally, concluding remarks are offered."
   ]
  },
  {
   "cell_type": "markdown",
   "metadata": {},
   "source": [
    "# Model description"
   ]
  },
  {
   "cell_type": "markdown",
   "metadata": {},
   "source": [
    "The equations for the goods market are as follows:\n",
    "\n",
    "\\begin{align}\n",
    "Y_t &= C_t + I_t + G_t \\\\\n",
    "C_t &= a + b(Y_{d,t}) \\\\\n",
    "Y_{d,t} &= Y_t - T_t \\\\\n",
    "I_t &= i_0 - i_1r_t \\\\\n",
    "G_t &= \\bar{G} \\\\\n",
    "T_t &= \\bar{T}\n",
    "\\end{align}\n",
    "\n",
    "(1) Total output is given as the sum of total consumption, total investment and government spending\n",
    "\n",
    "(2) Consumption is given by an autonomous consumption level $a$, as well as a marginal propensity to consume $b$ of total disposable income $Y_{d,t}$\n",
    "\n",
    "(3) Total disposable income is given as total output substracted aggregate tax payments\n",
    "\n",
    "(4) Investment is given by an autonomous investment level $i_0$, substracted the sensitivity of investment $i_1$ to the real interest rate $r_t$\n",
    "\n",
    "(5) Government spending is assumed fixed\n",
    "\n",
    "(6) Likewise, total taxation is assumed fixed (lump-sum tax)\n",
    "\n"
   ]
  },
  {
   "cell_type": "markdown",
   "metadata": {},
   "source": [
    "The equations for the money market are as follows:\n",
    "\n",
    "\\begin{align}\n",
    "M_{d,t} &= m_0 + m_1Y_t - m_2r_t \\tag{7} \\\\\n",
    "M_{s,t} &= \\bar{M} \\tag{8}\\\\\n",
    "M_{s,t} &= M_{d,t} \\tag{9}\n",
    "\\end{align}\n"
   ]
  },
  {
   "cell_type": "markdown",
   "metadata": {},
   "source": [
    "(7) Total monetary demand is given by an autonomous monetary demand $m_0$, the sentivity of monetary demand to income $m_1$ multiplied by total income, and subtracted the sensitivty of monetary demand to the interest rate $m_2$ multiplied by the interest rate.\n",
    "\n",
    "(8) Monetary supply is assumed fixed by the government\n",
    "\n",
    "(9) The equillibrium condition of the money market, in which supply must equal demand at any moment."
   ]
  },
  {
   "cell_type": "code",
   "execution_count": null,
   "metadata": {},
   "outputs": [],
   "source": [
    "import numpy as np\n",
    "\n",
    "# no. scenarios\n",
    "\n",
    "\n",
    "S = 5\n",
    "\n",
    "# Here i reate arrays that will store equilibrium solutions in different scenarios\n",
    "Y_star = np.empty(S)  # Income/output\n",
    "C_star = np.empty(S)  # Consumption\n",
    "\n",
    "I_star = np.empty(S)  # Investment\n",
    "\n",
    "r_star = np.empty(S)  # Real interest rate\n",
    "\n",
    "# Exogenous variables that will change across scenarios\n",
    "m0 = np.zeros(S)  # Autonomous demand for money\n",
    "Gbar = np.zeros(S)  # Government spending\n",
    "Tbar = np.zeros(S)  # Taxes\n",
    "Mbar = np.zeros(S)  # Money supply\n",
    "\n",
    "\n",
    "# Parameters for the baseline situation, which will change in other scenarios\n",
    "m0[:] = 5\n",
    "Gbar[:] = 2\n",
    "Tbar[:] = 2\n",
    "Mbar[:] = 8\n",
    "\n",
    "\n",
    "# Construct scenarios and the changes in parameters\n",
    "\n",
    "# scenario 2: increased liquidity preference\n",
    "m0[1] = 8\n",
    "\n",
    "# scenario 3: fiscal expansion\n",
    "Gbar[2] = 4\n",
    "\n",
    "# scenario 4: tax cut\n",
    "Tbar[3] = 0.5\n",
    "\n",
    "# scenario 5: monetary expansion\n",
    "Mbar[4] = 10\n",
    "\n",
    "\n",
    "#Set parameter values that are constant across all scenarios\n",
    "a=4   # Autonomous consumption\n",
    "b=0.7 # Sensitivity of consumption to income\n",
    "i0=3 # Autonomous investment\n",
    "i1=0.2 # Sensitivity of investment to the interest rate\n",
    "m1=0.2 # Sensitivity of money demand to income\n",
    "m2=0.5 # Sensitivity of money demand to interest rate\n",
    "\n",
    "\n",
    "# Endogenous values are initialised at any value, so as to allow for numerical solving\n",
    "Y = C = I =r = 1\n",
    "\n",
    "# The model is solved numerically, using 1000 iterations\n",
    "for i in range(S):\n",
    "    for iterations in range(1000):\n",
    "        # Model equations\n",
    "\n",
    "        # Goods market equilibrium\n",
    "        Y = C + I + Gbar[i]\n",
    "\n",
    "        # Disposable income\n",
    "        Yd = Y - Tbar[i]\n",
    "\n",
    "        # Consumption demand\n",
    "        C = a + b * (Yd)\n",
    "\n",
    "        \n",
    "\n",
    "        # Investment demand\n",
    "        I = i0 - i1 * r\n",
    "\n",
    "        # Money market equilibrium, solved for interest rate\n",
    "        r = (m0[i] - Mbar[i] + m1 * Y) / m2\n",
    "\n",
    "    # Results for different array indeces are saved\n",
    "    Y_star[i] = Y\n",
    "    C_star[i] = C\n",
    "    I_star[i] = I\n",
    "    r_star[i] = r\n",
    "\n"
   ]
  },
  {
   "cell_type": "markdown",
   "metadata": {},
   "source": [
    "# Results"
   ]
  },
  {
   "cell_type": "markdown",
   "metadata": {},
   "source": [
    "Output/Income"
   ]
  },
  {
   "cell_type": "code",
   "execution_count": null,
   "metadata": {},
   "outputs": [],
   "source": [
    "import matplotlib.pyplot as plt\n",
    "\n",
    "# Output/Income outcomes  \n",
    "scenario_names = [\"1:Baseline\", \"2:Incr. liq. pref.\", \"3:Fiscal exp.\", \"4:Tax cut\", \"5:Monetary exp.\"]\n",
    "colors = ['navy', 'gold', 'darkred', 'mediumseagreen', 'peachpuff']  \n",
    "\n",
    "plt.figure(figsize=(8, 6)) \n",
    "bars = plt.bar(scenario_names, Y_star, color=colors)\n",
    "\n",
    "# Display values above the bars\n",
    "for bar, value in zip(bars, Y_star):\n",
    "    plt.text(bar.get_x() + bar.get_width() / 2, bar.get_height(), round(value, 2),\n",
    "             ha='center', va='bottom', fontsize=12)\n",
    "\n",
    "plt.ylabel('Y')\n",
    "plt.xticks(rotation=45, fontsize=12)\n",
    "plt.tight_layout()\n",
    "plt.show()\n"
   ]
  },
  {
   "cell_type": "markdown",
   "metadata": {},
   "source": [
    "__Real interest rate__"
   ]
  },
  {
   "cell_type": "code",
   "execution_count": null,
   "metadata": {},
   "outputs": [],
   "source": [
    "    \n",
    "\n",
    "# Real interest rate outcomes\n",
    "scenario_names = [\"1:Baseline\", \"2:Incr. liq. pref.\", \"3:Fiscal exp.\", \"4:Tax cut\", \"5:Monetary exp.\"]\n",
    "colors = ['navy', 'gold', 'darkred', 'mediumseagreen', 'peachpuff']  \n",
    "\n",
    "plt.figure(figsize=(8, 6)) \n",
    "bars = plt.bar(scenario_names, r_star, color=colors)\n",
    "\n",
    "# Display values above the bars\n",
    "for bar, value in zip(bars, r_star):\n",
    "    plt.text(bar.get_x() + bar.get_width() / 2, bar.get_height(), round(value, 2),\n",
    "             ha='center', va='bottom', fontsize=12)\n",
    "\n",
    "plt.ylabel('r')\n",
    "plt.xticks(rotation=45, fontsize=12)\n",
    "plt.tight_layout()\n",
    "plt.show()"
   ]
  },
  {
   "cell_type": "markdown",
   "metadata": {},
   "source": [
    "Compared to the baseline, increasing liquidity preference reduces total output. This is due to the LM curve shifting leftward, reflecting an increase in demand for money at any given interest rate. As the LM curve shifts, equillibrium interest rates rise, as the money supply is fixed but demand rises. The negative impact on output reflects a decrease in investments as per the rising interest rate.\n",
    "\n",
    "The fiscal expansion is seen to raise output. It increases aggregate demand direcetly through this factor. However, rising interest rates may put a damper on investments, but the total effect is positve.\n",
    "\n",
    "The implications of a tax cut work in the same fashion as a fiscal expansion.\n",
    "\n",
    "An increase in the monetary supply moves the LM curve to the right, lowering the interest rate at any given level of income. This decrease in interest rates stimulates investment, raising total income."
   ]
  },
  {
   "cell_type": "markdown",
   "metadata": {},
   "source": [
    "Consumption"
   ]
  },
  {
   "cell_type": "code",
   "execution_count": null,
   "metadata": {},
   "outputs": [],
   "source": [
    "# Consumption outcomes    \n",
    "scenario_names = [\"1:Baseline\", \"2:Incr. liq. pref.\", \"3:Fiscal exp.\", \"4:Tax cut\", \"5:Monetary exp.\"]\n",
    "colors = ['navy', 'gold', 'darkred', 'mediumseagreen', 'peachpuff']  \n",
    "\n",
    "plt.figure(figsize=(8, 6)) \n",
    "bars = plt.bar(scenario_names, C_star, color=colors)\n",
    "\n",
    "# Display values above the bars\n",
    "for bar, value in zip(bars, C_star):\n",
    "    plt.text(bar.get_x() + bar.get_width() / 2, bar.get_height(), round(value, 2),\n",
    "             ha='center', va='bottom', fontsize=12)\n",
    "\n",
    "plt.ylabel('C')\n",
    "plt.xticks(rotation=45, fontsize=12)\n",
    "plt.tight_layout()\n",
    "plt.show()"
   ]
  },
  {
   "cell_type": "code",
   "execution_count": null,
   "metadata": {},
   "outputs": [],
   "source": [
    "# Investment outcomes    \n",
    "scenario_names = [\"1:Baseline\", \"2:Incr. liq. pref.\", \"3:Fiscal exp.\", \"4:Tax cut\", \"5:Monetary exp.\"]\n",
    "colors = ['navy', 'gold', 'darkred', 'mediumseagreen', 'peachpuff']  \n",
    "\n",
    "plt.figure(figsize=(8, 6)) \n",
    "bars = plt.bar(scenario_names, I_star, color=colors)\n",
    "\n",
    "# Display values above the bars\n",
    "for bar, value in zip(bars, I_star):\n",
    "    plt.text(bar.get_x() + bar.get_width() / 2, bar.get_height(), round(value, 2),\n",
    "             ha='center', va='bottom', fontsize=12)\n",
    "\n",
    "plt.ylabel('I')\n",
    "plt.xticks(rotation=45, fontsize=12)\n",
    "plt.tight_layout()\n",
    "plt.show()"
   ]
  },
  {
   "cell_type": "markdown",
   "metadata": {},
   "source": [
    "As per comments earlier, consumption closely follows total output, and therefore it is no suprise to see similiar patterns here.\n",
    "\n",
    "For investment, rising interest rates cause lower investment with increased liquidity prefrence, fiscal expansion, and tax cuts, while the large monetary expansion causes much higher investment. However, fiscal expansion and tax cuts are found to be most effective at raising consumption. If consumption is the goal, this suggests an inefficient level of industry maintained by the low interest rates of a monetary expansion."
   ]
  },
  {
   "cell_type": "markdown",
   "metadata": {},
   "source": [
    "# Further analysis"
   ]
  },
  {
   "cell_type": "markdown",
   "metadata": {},
   "source": [
    "The baseline IS-LM model is shown in a Y,r diagram below:\n",
    "\n",
    "The IS curve is found by inserting equations (2)-(6) into equation (1), and solving for Y.\n",
    "\n",
    "The LM curfve is found by inserting equations (8) and (9) into equation (7), likewise solving for Y."
   ]
  },
  {
   "cell_type": "code",
   "execution_count": null,
   "metadata": {},
   "outputs": [],
   "source": [
    "\n",
    "\n",
    "# Baseline parameters\n",
    "a = 4   # Autonomous consumption\n",
    "b = 0.7  # Marginal propensity to consume\n",
    "i0 = 3  # Autonomous investment\n",
    "i1 = 0.2  # Sensitivity of investment to the interest rate\n",
    "m0 = 5    # Autonomous demand for money\n",
    "m1 = 0.2  # Sensitivity of money demand to income\n",
    "m2 = 0.5  # Sensitivity of money demand to interest rate\n",
    "Gbar = 2  # Government spending\n",
    "Tbar = 2  # Taxes\n",
    "Mbar = 8  # Money supply\n",
    "\n",
    "# Define a range of interest rates\n",
    "r_range = np.linspace(0.1, 6, 100)\n",
    "\n",
    "# Calculate corresponding levels of income for IS curve\n",
    "Y_is = (a  - b * Tbar + i0 - i1 * r_range + Gbar) / (1 - b)\n",
    "\n",
    "# Calculate corresponding levels of income for LM curve\n",
    "Y_lm = (Mbar + m2 * r_range - m0) / m1\n",
    "\n",
    "# Find intersection point\n",
    "intersection_index = np.argmin(np.abs(Y_is - Y_lm))\n",
    "intersection_Y = Y_is[intersection_index]\n",
    "intersection_r = r_range[intersection_index]\n",
    "\n",
    "# Plot IS curve\n",
    "plt.plot(Y_is, r_range, label='IS curve')\n",
    "\n",
    "# Plot LM curve\n",
    "plt.plot(Y_lm, r_range, label='LM curve')\n",
    "\n",
    "# Plot intersection point\n",
    "plt.plot(intersection_Y, intersection_r, 'ko')  # Red dot for intersection point\n",
    "\n",
    "# Annotate intersection point\n",
    "plt.annotate(f'({intersection_Y:.2f}, {intersection_r:.2f})', \n",
    "             xy=(intersection_Y, intersection_r), \n",
    "             xytext=(intersection_Y - 0.5, intersection_r + 0.5))\n",
    "\n",
    "# Add labels and title\n",
    "plt.xlabel('Income (Y)')\n",
    "plt.ylabel('Interest Rate (r)')\n",
    "plt.title('IS-LM Curves')\n",
    "plt.legend()\n",
    "plt.grid(True)\n",
    "\n",
    "# Show plot\n",
    "plt.show()\n"
   ]
  },
  {
   "cell_type": "markdown",
   "metadata": {},
   "source": [
    "The model is now expanded to include labour supply and unemployment rates"
   ]
  },
  {
   "cell_type": "code",
   "execution_count": 16,
   "metadata": {},
   "outputs": [],
   "source": [
    "import numpy as np\n",
    "\n",
    "# no. scenarios\n",
    "\n",
    "\n",
    "S = 5\n",
    "\n",
    "# Here i reate arrays that will store equilibrium solutions in different scenarios\n",
    "Y_star = np.empty(S)  # Income/output\n",
    "C_star = np.empty(S)  # Consumption\n",
    "I_star = np.empty(S)  # Investment\n",
    "r_star = np.empty(S)  # Real interest rate\n",
    "L_star = np.empty(S)  # Employment\n",
    "U_star = np.empty(S)  # Unemployment rate\n",
    "\n",
    "# Exogenous variables that will change across scenarios\n",
    "m0 = np.zeros(S)  # Autonomous demand for money\n",
    "Gbar = np.zeros(S)  # Government spending\n",
    "Tbar = np.zeros(S)  # Taxes\n",
    "Mbar = np.zeros(S)  # Money supply\n",
    "\n",
    "\n",
    "# Parameters for the baseline situation, which will change in other scenarios\n",
    "m0[:] = 5\n",
    "Gbar[:] = 2\n",
    "Tbar[:] = 2\n",
    "Mbar[:] = 8\n",
    "\n",
    "\n",
    "# Construct scenarios and the changes in parameters\n",
    "\n",
    "# scenario 2: increased liquidity preference\n",
    "m0[1] = 8\n",
    "\n",
    "# scenario 3: fiscal expansion\n",
    "Gbar[2] = 4\n",
    "\n",
    "# scenario 4: tax cut\n",
    "Tbar[3] = 0.5\n",
    "\n",
    "# scenario 5: monetary expansion\n",
    "Mbar[4] = 10\n",
    "\n",
    "\n",
    "#Set parameter values that are constant across all scenarios\n",
    "a=4   # Autonomous consumption\n",
    "b=0.7 # Sensitivity of consumption to income\n",
    "i0=3 # Autonomous investment\n",
    "i1=0.2 # Sensitivity of investment to the interest rate\n",
    "m1=0.2 # Sensitivity of money demand to income\n",
    "m2=0.5 # Sensitivity of money demand to interest rate\n",
    "l=2  # labour coefficient\n",
    "Lt=60  # total labour force\n",
    "\n",
    "\n",
    "# Endogenous values are initialised at any value, so as to allow for numerical solving\n",
    "Y = C = I =r = 1\n",
    "\n",
    "# The model is solved numerically, using 1000 iterations\n",
    "for i in range(S):\n",
    "    for iterations in range(1000):\n",
    "        # Model equations\n",
    "\n",
    "        # Goods market equilibrium\n",
    "        Y = C + I + Gbar[i]\n",
    "\n",
    "        # Disposable income\n",
    "        Yd = Y - Tbar[i]\n",
    "\n",
    "        # Consumption demand\n",
    "        C = a + b * (Yd)\n",
    "\n",
    "        # Investment demand\n",
    "        I = i0 - i1 * r\n",
    "\n",
    "         # Employment\n",
    "        L = l * Y\n",
    "\n",
    "        # Unemployment rate\n",
    "        U = 1 - (L / Lt)\n",
    "\n",
    "        # Money market equilibrium, solved for interest rate\n",
    "        r = (m0[i] - Mbar[i] + m1 * Y) / m2\n",
    "\n",
    "    # Results for different array indeces are saved\n",
    "    Y_star[i] = Y\n",
    "    C_star[i] = C\n",
    "    I_star[i] = I\n",
    "    r_star[i] = r\n",
    "    L_star[i] = L\n",
    "    U_star[i] = U\n"
   ]
  },
  {
   "cell_type": "markdown",
   "metadata": {},
   "source": [
    "Total labour force size outcomes:"
   ]
  },
  {
   "cell_type": "code",
   "execution_count": 17,
   "metadata": {},
   "outputs": [
    {
     "data": {
      "image/png": "[encoded data removed]",
      "text/plain": [
       "<Figure size 800x600 with 1 Axes>"
      ]
     },
     "metadata": {},
     "output_type": "display_data"
    }
   ],
   "source": [
    "import matplotlib.pyplot as plt\n",
    "\n",
    "# Output/Income outcomes  \n",
    "scenario_names = [\"1:Baseline\", \"2:Incr. liq. pref.\", \"3:Fiscal exp.\", \"4:Tax cut\", \"5:Monetary exp.\"]\n",
    "colors = ['navy', 'gold', 'darkred', 'mediumseagreen', 'peachpuff']  \n",
    "\n",
    "plt.figure(figsize=(8, 6)) \n",
    "bars = plt.bar(scenario_names, L_star, color=colors)\n",
    "\n",
    "# Display values above the bars\n",
    "for bar, value in zip(bars, L_star):\n",
    "    plt.text(bar.get_x() + bar.get_width() / 2, bar.get_height(), round(value, 2),\n",
    "             ha='center', va='bottom', fontsize=12)\n",
    "\n",
    "plt.ylabel('L')\n",
    "plt.xticks(rotation=45, fontsize=12)\n",
    "plt.tight_layout()\n",
    "plt.show()"
   ]
  },
  {
   "cell_type": "markdown",
   "metadata": {},
   "source": [
    "Unemployment rate outcomes:"
   ]
  },
  {
   "cell_type": "code",
   "execution_count": 19,
   "metadata": {},
   "outputs": [
    {
     "data": {
      "image/png": "[encoded data removed]",
      "text/plain": [
       "<Figure size 800x600 with 1 Axes>"
      ]
     },
     "metadata": {},
     "output_type": "display_data"
    }
   ],
   "source": [
    "import matplotlib.pyplot as plt\n",
    "\n",
    "# Convert unemployment rates to percentages\n",
    "U_star_percent = [rate * 100 for rate in U_star]\n",
    "\n",
    "# Unemployment outcomes  \n",
    "scenario_names = [\"1:Baseline\", \"2:Incr. liq. pref.\", \"3:Fiscal exp.\", \"4:Tax cut\", \"5:Monetary exp.\"]\n",
    "colors = ['navy', 'gold', 'darkred', 'mediumseagreen', 'peachpuff']  \n",
    "\n",
    "plt.figure(figsize=(8, 6)) \n",
    "bars = plt.bar(scenario_names, U_star_percent, color=colors)\n",
    "\n",
    "# Displays values above the bars\n",
    "for bar, value in zip(bars, U_star_percent):\n",
    "    plt.text(bar.get_x() + bar.get_width() / 2, bar.get_height(), f'{value:.2f}%',\n",
    "             ha='center', va='bottom', fontsize=12)\n",
    "\n",
    "plt.ylabel('Unemployment Rate (%)')\n",
    "plt.xticks(rotation=45, fontsize=12)\n",
    "plt.tight_layout()\n",
    "plt.show()\n"
   ]
  },
  {
   "cell_type": "markdown",
   "metadata": {},
   "source": [
    "As employment is given by a simple factor of total output, it is no suprise that the fiscal expansion once again reigns supreme."
   ]
  },
  {
   "cell_type": "markdown",
   "metadata": {},
   "source": [
    "# Conclusion"
   ]
  },
  {
   "cell_type": "markdown",
   "metadata": {},
   "source": [
    "In line with Keynes' reasoning, increased government spending is found to raise consumption while reducing the unemployment rate. Tax cuts achieve the same through stimulating consumption. Increasing liquidity preference, which raises the interest rates, is found to reduce consumption and markedly increase the unemployment level."
   ]
  }
 ],
 "metadata": {
  "kernelspec": {
   "display_name": "base",
   "language": "python",
   "name": "python3"
  },
  "language_info": {
   "codemirror_mode": {
    "name": "ipython",
    "version": 3
   },
   "file_extension": ".py",
   "mimetype": "text/x-python",
   "name": "python",
   "nbconvert_exporter": "python",
   "pygments_lexer": "ipython3",
   "version": "3.11.7"
  },
  "toc-autonumbering": true,
  "vscode": {
   "interpreter": {
    "hash": "47ef90cdf3004d3f859f1fb202523c65c07ba7c22eefd261b181f4744e2d0403"
   }
  }
 },
 "nbformat": 4,
 "nbformat_minor": 4
}
